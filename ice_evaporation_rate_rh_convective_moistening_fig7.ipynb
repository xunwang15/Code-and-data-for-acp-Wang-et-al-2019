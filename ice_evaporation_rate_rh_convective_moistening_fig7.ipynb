{
 "cells": [
  {
   "cell_type": "code",
   "execution_count": 1,
   "metadata": {},
   "outputs": [
    {
     "data": {
      "text/plain": [
       "'\\nThis notebook reads GEOSCCM ice, GEOSCCM trajectory evaporation rate data, \\nand other GEOSCCM and GEOSCCM trajectory data.\\nIt also processes the GEOSCCM and GEOSCCM trajectory data to get RH and convective moistening\\nThen we plot the data.\\n'"
      ]
     },
     "execution_count": 1,
     "metadata": {},
     "output_type": "execute_result"
    }
   ],
   "source": [
    "\"\"\"\n",
    "This notebook reads GEOSCCM ice, GEOSCCM trajectory evaporation rate data, \n",
    "and other GEOSCCM and GEOSCCM trajectory data.\n",
    "It also processes the GEOSCCM and GEOSCCM trajectory data to get RH and convective moistening\n",
    "Then we plot the data.\n",
    "\"\"\""
   ]
  },
  {
   "cell_type": "code",
   "execution_count": 2,
   "metadata": {},
   "outputs": [],
   "source": [
    "import numpy as np\n",
    "import pandas as pd\n",
    "import xarray as xr \n",
    "from seasonal_cycle_analysis_functions import *\n",
    "import matplotlib.pyplot as plt\n",
    "%matplotlib inline\n",
    "degree_sign= u'\\N{DEGREE SIGN}'\n",
    "from string import ascii_lowercase\n",
    "import calendar\n",
    "import cartopy.crs as ccrs\n",
    "from cartopy.mpl.ticker import LongitudeFormatter, LatitudeFormatter"
   ]
  },
  {
   "cell_type": "code",
   "execution_count": 3,
   "metadata": {},
   "outputs": [],
   "source": [
    "indir = '/mnt/data/ice2/xwang/ACP2019_data_code/data/'\n",
    "\n",
    "#--- specify file names to read\n",
    "fname = ['geosccm_icemix.nc',\\\n",
    "         'geosccm_Traj_evaprate.nc',\\\n",
    "         'geosccm_temperature.nc',\\\n",
    "         'geosccm_h2omix_no-avk.nc',\\\n",
    "         'geosccm_TrajStandard_h2omix_no-avk.nc',\\\n",
    "         'geosccm_TrajIce_h2omix_no-avk.nc']\n",
    "\n",
    "#--- define arrays to store data\n",
    "nfile = 6\n",
    "nmonth = 12\n",
    "nlat = 45\n",
    "var = np.zeros((nfile,nmonth,nlat)) # stores zonal mean seasonal cycle for each variable\n",
    "\n",
    "#--- begin reading data from file\n",
    "#--- first define a function to help process the data\n",
    "def read_data(fname,time1,time2,pr):\n",
    "    ff=xr.open_dataset(fname)\n",
    "    ff['time']=pd.to_datetime(ff.time, format='%Y%m')\n",
    "    if pr >0: \n",
    "        ff = ff.sel(pressure=pr,method='nearest').sel(time=slice(time1,time2)).groupby('time.month').mean(dim='time').mean(dim='longitude')\n",
    "    else:\n",
    "        ff = ff.sel(time=slice(time1,time2)).groupby('time.month').mean(dim='time').mean(dim='longitude')\n",
    "    return ff\n",
    "\n",
    "#--- read and process data\n",
    "ff = read_data(indir+fname[0],'2004-08-01','2018-10-31',100) # get geosccm convective ice\n",
    "var[0,:] = ff.ice_mix.values\n",
    "\n",
    "ff = read_data(indir+fname[1],'2004-08-01','2018-10-31',100) # get geosccm trajectory ice evaporation rate\n",
    "var[1,:] = ff.evap_rate.values\n",
    "\n",
    "ff = read_data(indir+fname[2],'2004-08-01','2018-10-31',100) # get geosccm temperature \n",
    "var[2,:] = ff.temperature.values    \n",
    "\n",
    "ff = read_data(indir+fname[3],'2004-08-01','2018-10-31',0)  # get geosccm water vapor\n",
    "var[3,:] = ff.h2o_mix.values \n",
    "\n",
    "ff = read_data(indir+fname[4],'2004-08-01','2018-10-31',0)  # get geosccm standard trajectory water vapor\n",
    "var[4,:] = ff.h2o_mix.values \n",
    "\n",
    "ff = read_data(indir+fname[5],'2004-08-01','2018-10-31',0)  # get geosccm ice model water vapor\n",
    "var[5,:] = ff.h2o_mix.values \n",
    "lat = ff.latitude.values\n",
    "\n",
    "#--- Now generate the variables we are going to plot\n",
    "#--- We need geosccm convective ice, geosccm evaporation rate,\n",
    "#--- geosccm RH, and geosccm trajectory convective moistening.\n",
    "#--- We already have geosccm convective ice and geosccm evaporation rate,\n",
    "#--- all we need is to generate geosccm RH and geosccm trajectory convective moistening.\n",
    "nvar = 4\n",
    "var2 = np.zeros((nvar,nmonth,nlat))                       # stores the new variables to be plotted\n",
    "var2[:2,:] = var[:2,:]*1.\n",
    "sat_h2o = sat_mix_mk(np.ones_like(var[2,:])*100,var[2,:]) # get the saturation mixing ratio\n",
    "var2[2,:] = var[3,:]/sat_h2o*100                          # get the RH\n",
    "var2[3,:] = var[5,:]-var[4,:]                             # get the geosccm trajectory convective moistening\n",
    "\n"
   ]
  },
  {
   "cell_type": "markdown",
   "metadata": {},
   "source": [
    "# Begin plotting the figure"
   ]
  },
  {
   "cell_type": "code",
   "execution_count": 5,
   "metadata": {},
   "outputs": [
    {
     "name": "stderr",
     "output_type": "stream",
     "text": [
      "/usr/local/anaconda/lib/python3.7/site-packages/ipykernel_launcher.py:56: UserWarning: This figure includes Axes that are not compatible with tight_layout, so results might be incorrect.\n"
     ]
    },
    {
     "data": {
      "image/png": "[encoded data removed]",
      "text/plain": [
       "<Figure size 504x288 with 8 Axes>"
      ]
     },
     "metadata": {
      "needs_background": "light"
     },
     "output_type": "display_data"
    }
   ],
   "source": [
    "#--- pre-define some variables to aid the plotting\n",
    "vmax = [[0.1,0.5],[100,2.5]]\n",
    "vmin = [[0,0],[0,0]]\n",
    "nlvl = [[11,9],[11,11]]\n",
    "lattick = [-40,-20,0,20,40]\n",
    "lontick = [0,120,240,360]\n",
    "colorbari = [[5,5],[6,6]]\n",
    "cbar_x = [0.44,0.985]\n",
    "cbar_y = [0.56,0.078]\n",
    "xt = np.arange(1,13,1)\n",
    "\n",
    "title = ['GEOSCCM convective ice','ice evaporation rate','RH','Convective Moistening']\n",
    "cbar_label = ['ppmv',r'ppmv day$^{-1}$','%','ppmv']\n",
    "latstr = ['40'+degree_sign+' S','20'+degree_sign+' S','0','20'+degree_sign+' N','40'+degree_sign+' N']\n",
    "xtk = np.array([calendar.month_abbr[i][0] for i in xt]) \n",
    "\n",
    "#--- Start plotting\n",
    "fig,ax = plt.subplots(nrows=2,ncols=2)\n",
    "fig.set_size_inches(7,4, forward=True)\n",
    "k = 0\n",
    "\n",
    "for i in range(2):       \n",
    "    for j in range(2):\n",
    "        ax[i][j].set_yticks(lattick) \n",
    "        ax[i][j].set_yticklabels(latstr,fontsize=8)       \n",
    "        ax[i][j].set_xticks(xt)\n",
    "        ax[i][j].set_xticklabels(xtk,fontsize=8)\n",
    "        ax[i][j].set_ylim([-40,40])\n",
    "        ax[i][j].set_title(title[k],fontsize=10)\n",
    "        ax[i][j].annotate('('+ascii_lowercase[k]+')',xy=(0.97,0.02),\\\n",
    "                          xycoords='axes fraction',size=10,ha='right',va='bottom')\n",
    "        if i == 0 and j ==0:\n",
    "            pass\n",
    "        else:\n",
    "            leveli = np.linspace(vmin[i][j],vmax[i][j],nlvl[i][j]) \n",
    "            # first plot evaporation rate, RH, and convective moistening\n",
    "            ima = ax[i][j].contourf(xt,lat,var2[k,:].T,cmap='afmhot_r',\\\n",
    "                                    levels=leveli,extend='both') \n",
    "            cbaxes = fig.add_axes([cbar_x[j],cbar_y[i],0.01,0.35])    \n",
    "            colorbar_setting(fig,ima,ax[i][j],vmin[i][j],vmax[i][j],colorbari[i][j],cbar_label[k],cbaxes)\n",
    "        k+=1\n",
    "\n",
    "# then plot convective ice      \n",
    "leveli = np.array([0,1e-4,0.005,0.01,0.02,0.04,0.08,0.1,0.12,0.15,0.2,0.3,0.4,0.8,1.])\n",
    "ima = ax[0][0].contourf(xt,lat,var2[0,:].T,cmap='afmhot_r',levels = leveli,norm=PiecewiseNorm(leveli))\n",
    "\n",
    "cbaxes = fig.add_axes([cbar_x[0],cbar_y[0],0.01,0.35])    \n",
    "cbl = fig.colorbar(ima, ax=ax[0][0],cax=cbaxes)\n",
    "cbl.set_label('ppmv',fontsize=10) \n",
    "cticks = leveli[::2]\n",
    "cbl.set_ticks(cticks)\n",
    "clabels = np.array([np.str(round(i,3)) for i in cticks])\n",
    "cbl.set_ticklabels(clabels)\n",
    "cbl.ax.tick_params(labelsize=8) \n",
    "\n",
    "plt.tight_layout(w_pad=6.5)\n"
   ]
  },
  {
   "cell_type": "code",
   "execution_count": null,
   "metadata": {},
   "outputs": [],
   "source": []
  }
 ],
 "metadata": {
  "kernelspec": {
   "display_name": "Python 3",
   "language": "python",
   "name": "python3"
  },
  "language_info": {
   "codemirror_mode": {
    "name": "ipython",
    "version": 3
   },
   "file_extension": ".py",
   "mimetype": "text/x-python",
   "name": "python",
   "nbconvert_exporter": "python",
   "pygments_lexer": "ipython3",
   "version": "3.7.3"
  }
 },
 "nbformat": 4,
 "nbformat_minor": 2
}
